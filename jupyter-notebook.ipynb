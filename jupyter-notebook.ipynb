{
 "cells": [
  {
   "cell_type": "markdown",
   "metadata": {},
   "source": [
    "# Apprentissage de Jupyter Notebook - Exercice pratique\n",
    "\n",
    "**Cours \"Informatique pour l'ingénieur de l'environnement**\" - _EPFL-ENAC-SSIE-BA3 - [Jean-Daniel Bonjour](https://enacit.epfl.ch/personnes/bonjour.shtml) (v. 2019-09-10) © [CC BY-SA](http://creativecommons.org/licenses/by-sa/3.0/deed.fr)_\n",
    "\n",
    "-----\n",
    "\n",
    "_Bienvenue dans Jupyter Notebook ! Tout d'abord **bravo** d'être parvenu à lancer Jupyter Notebook et ouvrir ce notebook !_\n",
    "\n",
    "_Cet exercice a pour objectif de vous faire rapidement découvrir et explorer les **fonctionnalités de base** des **notebooks Jupyter** ainsi que de l'interpréteur interactif **IPython** en mode notebook._\n",
    "\n",
    "-----"
   ]
  },
  {
   "cell_type": "markdown",
   "metadata": {},
   "source": [
    "## ▶ Édition et exécution d'une cellule de code\n",
    "\n",
    "Un notebook Jupyter consiste en **cellules** individuelles pouvant contenir du **code** (Python, GNU Octave, ou autre langage supporté par Jupyter), du **texte** (avec formatage Markdown, HTML et LaTeX) ou des **graphiques**.\n",
    "\n",
    "Commençons par les cellules de type Code.\n",
    "\n",
    "**1)** Placez le curseur dans la 1ère cellule **In[ ]:** ci-dessous puis frappez `<enter>`. Que se passe-t-il ? Rien d'autre que l'insertion d'un saut de ligne... C'est normal, car dans une cellule de type \"Code\" (c'est-à-dire préfixée par **In[ ]:**) on est par défaut en mode **édition de code** !\n",
    "\n",
    "Pour **exécuter le code** d'une cellule, il faut en effet frapper `<maj-enter>` (ou cliquer sur le bouton `[Run]`, ou encore utiliser le menu `Cell>Run Cells and Select Below...`). Essayez dans la première cellule ci-dessous !"
   ]
  },
  {
   "cell_type": "code",
   "execution_count": null,
   "metadata": {
    "scrolled": true
   },
   "outputs": [],
   "source": [
    "15 + 24"
   ]
  },
  {
   "cell_type": "code",
   "execution_count": null,
   "metadata": {},
   "outputs": [],
   "source": [
    "'Hello tout le monde !'"
   ]
  },
  {
   "cell_type": "markdown",
   "metadata": {},
   "source": [
    "Une ligne **Out[ ]:** devrait être apparue en dessous de la 1ère expression, affichant le résultat de celle-ci ! Le curseur s'est alors automatiquement déplacé dans la cellule d'en-dessous... que vous pouvez exécuter à son tour !\n",
    "\n",
    "_Notez qu'il est aussi possible de frapper `<ctrl-enter>` (identique à `Cell>Run Cells`). Dans ce cas, le curseur **reste dans la cellule** après l'exécution du code._"
   ]
  },
  {
   "cell_type": "markdown",
   "metadata": {},
   "source": [
    "**2)** Exécutez maintenant le code de la cellule ci-dessous."
   ]
  },
  {
   "cell_type": "code",
   "execution_count": null,
   "metadata": {},
   "outputs": [],
   "source": [
    "a, b = 5, 10      # affectation simultanée de 2 variables\n",
    "print('La somme de ces 2 nombres vaut :', a + b)"
   ]
  },
  {
   "cell_type": "markdown",
   "metadata": {},
   "source": [
    "Vous constatez que le résultat s'affiche bien, mais pas dans une cellule préfixée par **Out[ ]** comme précédemment. En effet, ce qui génère une cellule Out[ ] c'est le résultat de la **dernière expression** Python si elle n'est pas affectée à une variable (c-à-d. la valeur que Python stocke temporairement sur la variable `\"_\"` souligné). Le comportement est donc exactement le même que dans les interpréteurs Python et IPython."
   ]
  },
  {
   "cell_type": "markdown",
   "metadata": {},
   "source": [
    "**3.1)** Peut-on **modifier le code** d'une cellule puis le **ré-exécuter** ? Bien sûr ! \\\n",
    "Expérimentez cela dans la cellule ci-dessus en modifiant les valeurs des variables a et b, puis frappez à nouveau `<maj-enter>`\n",
    "\n",
    "**3.2)** Pour **supprimer l'output** d'une cellule, faire `Cell>Current Outputs>Clear` \\\n",
    "Essayez !"
   ]
  },
  {
   "cell_type": "markdown",
   "metadata": {},
   "source": [
    "_Notez que si plusieurs cellules sont sélectionnées (ce que l'on peut faire en mode commande avec `<maj-curseurBas>` ou `<maj-curseurHaut>`), les commandes `<ctrl-enter>` et `<maj-enter>` exécutent l'ensemble des cellules sélectionnées !_"
   ]
  },
  {
   "cell_type": "markdown",
   "metadata": {},
   "source": [
    "## ▶ Création de cellules de code"
   ]
  },
  {
   "cell_type": "markdown",
   "metadata": {},
   "source": [
    "**4)** Comment puis-je créer **mes propres cellules** de code ? Tout simplement de la façon suivante :\n",
    "\n",
    "- sélectionnez d'abord la cellule juste au-dessus de l'emplacement où vous désirez insérer votre propre cellule (ou respectivement juste en-dessous)\n",
    "- puis cliquez sur le bouton `[+]`, ou faites `Insert>Insert Cell Below` (ou respectivement `Insert>Insert Cell Above`), ou utilisez le raccourci clavier `B` (respectivement `A`)\n",
    "\n",
    "Exercez-vous en créant, juste en-dessous de la présente cellule, une nouvelle cellule. Insérez-y le code :\n",
    "\n",
    "    print('Ouaouh... c'est ma première cellule !')\n",
    "\n",
    "puis exécutez le code de cette cellule."
   ]
  },
  {
   "cell_type": "markdown",
   "metadata": {
    "slideshow": {
     "slide_type": "subslide"
    }
   },
   "source": [
    "**5)** Nous vous avons tendu un piège : si vous avez repris cette instruction `print` telle quelle, son exécution a dû générer une erreur, car l'apostrophe de la partie de chaîne _...c'est..._ n'était pas préfixé du caractère backslash. Peu importe, corrigez votre code et réexécutez-le, ce qui illustre bien l'intérêt de Jupyter Notebook !"
   ]
  },
  {
   "cell_type": "markdown",
   "metadata": {},
   "source": [
    "_Notez qu'il existe encore `<alt-enter>` (ou `Cell>Run Cells and Insert Below`) qui exécuterait le code des cellules sélectionnées et insèrerait automatiquement une nouvelle cellule en-dessous._"
   ]
  },
  {
   "cell_type": "markdown",
   "metadata": {},
   "source": [
    "## ▶ Détruire, couper/copier et coller des cellules"
   ]
  },
  {
   "cell_type": "markdown",
   "metadata": {},
   "source": [
    "**6.1)** Pour **détruire** ou couper une cellule, sélectionnez-la puis cliquez sur le bouton `[Cut Selected Cells]` (ou raccourci clavier `X`, ou `Edit>Cut Cells`). Exercez-vous en détruisant la cellule ci-dessous. Puis rétablissez-la avec `Edit>Undo Delete Cells` (ou raccourci clavier `Z`)"
   ]
  },
  {
   "cell_type": "code",
   "execution_count": null,
   "metadata": {},
   "outputs": [],
   "source": [
    "Une cellule à couper, copier, coller..."
   ]
  },
  {
   "cell_type": "markdown",
   "metadata": {},
   "source": [
    "**6.2)** De façon analogue exercez, avec la cellule ci-dessus : \\\n",
    "\\- la **copie** de cellules : bouton `[Copy Selected Cells]` (correspondant au raccourci clavier `C` ou menu `Edit>Copy Cells`) \\\n",
    "\\- le **collage** de cellules : bouton `[Paste Cells Below]`, ainsi que les raccourcis clavier `V` et `<maj-V>` (correspondant respectivement aux menus `Edit>Paste Cells Below` et `Edit>Paste Cells Above`)"
   ]
  },
  {
   "cell_type": "markdown",
   "metadata": {},
   "source": [
    "## ▶ Déplacement, splittage et fusionnement de cellules"
   ]
  },
  {
   "cell_type": "markdown",
   "metadata": {},
   "source": [
    "**7)** Vous trouvez ci-dessous 2 cellules de type texte constituant une liste à puce (on verra dans un instant comment créer de telles cellules).\n",
    "\n",
    "Commencez par **spliter** la première cellule : pour cela frappez d'abord `<enter>` (ou _double-clic_ ) dans la cellule pour l'éditer, puis placez le curseur entre les 2 lignes, et faites finalement `Edit>Split Cell`"
   ]
  },
  {
   "cell_type": "markdown",
   "metadata": {},
   "source": [
    "- Ceci est la **troisième cellule** de texte, blabla blabla blabla blabla blabla blabla blabla blabla blabla blabla blabla blabla blabla blabla.\n",
    "\n",
    "- Ceci doit devenir la **seconde cellule** de texte, blabla blabla blabla blabla blabla blabla blabla blabla blabla blabla blabla blabla."
   ]
  },
  {
   "cell_type": "markdown",
   "metadata": {},
   "source": [
    "- Ceci sera la **première cellule** de texte, blabla blabla blabla blabla blabla blabla blabla blabla blabla blabla blabla blabla blabla."
   ]
  },
  {
   "cell_type": "markdown",
   "metadata": {},
   "source": [
    "**8)** Vous devriez alor avoir ci-dessus 3 cellules de texte. **Déplacez-les**, pour les mettre dans l'ordre, en utilisant les boutons  `[Move Selected Cells Up]` et `[Move Selected Cells Down]` (ou menus `Edit>Move ...`)"
   ]
  },
  {
   "cell_type": "markdown",
   "metadata": {},
   "source": [
    "**9)** Puis expérimentez le **fusionnement** de cellules en fusionnant ces 3 cellules de texte en une seule avec `Edit>Merge Cell Above` ou `Edit>Merge Cell Below`"
   ]
  },
  {
   "cell_type": "markdown",
   "metadata": {},
   "source": [
    "## ▶ Création de cellules de texte\n",
    "\n",
    "Il existe 3 types de cellules de texte, selon le choix effectué à l'aide du **menu** déroulant de droite ou avec `Cell>Cell Type>...` :\n",
    "\n",
    "- **Heading 1/2/3/4/5/6** : cellules de titres de niveau 1 à 6\n",
    "- **Raw NBConvert** (texte) : cellules de texte sans aucun formatage, directement éditables sans devoir _double-cliquer_ dedans\n",
    "- **Markdown** : cellules dans lesquelles le texte est soumis à un formatage selon la syntaxe Markdown ; les éventuelles balises HTML et le code LaTeX sont également interprétés\n",
    "\n",
    "_Notez qu'on peut aussi changer le type d'une cellule en mode commande (i.e. lorsqu'on est sortie du mode d'édition avec `<esc>`) avec les **raccourcis** clavier suivants : `C`= Code, `M`= Markdown, `R`= Raw, `1`= Heading1, `2`= Heading2, `3`= Heading3, etc..._"
   ]
  },
  {
   "cell_type": "markdown",
   "metadata": {},
   "source": [
    "**10)** Créez juste ci-dessous une cellule de type **Raw NBConvert** (texte). Pour cela, créez une cellule par le procédé standard (elle sera donc par défaut de type Code), puis changez son type à l'aide du menu déroulant."
   ]
  },
  {
   "cell_type": "markdown",
   "metadata": {},
   "source": [
    "**11)** Créez ci-dessous un titre **Heading 4** (donc de 4ème niveau). Modifiez ensuite le texte du titre, ce qui nécessite de frapper `<enter>` ou _double-cliquer_ dans la cellule pour passer en mode d'édition."
   ]
  },
  {
   "cell_type": "markdown",
   "metadata": {},
   "source": [
    "**12)** _S'agissant des cellules de texte au format **Markdown**, cela suppose quelques notions relatives au langage de balisage Markdown. Nous vous renvoyons à la documentation \"[Élaboration et conversion de documents avec Markdown et Pandoc](https://enacit.epfl.ch/cours/markdown-pandoc/)\" que nous avons élaborée. Mais notez que vous ne pourrez utiliser, sous Jupyter Notebook, que la syntaxe de base Markdown (les extensions Pandoc n'étant pas reconnues par Jupyter)._\n",
    "\n",
    "_Pour vous donner une idée de la simplicité du balisage Markdown, vous pouvez double-cliquer dans les cellules de texte du présent notebook qui sont toutes au format Markdown._"
   ]
  },
  {
   "cell_type": "markdown",
   "metadata": {},
   "source": [
    "_Et comme vous le voyez ci-dessous, il est donc même possible d'introduire du **code LaTeX** (placé entre deux caractères `$`) dans une cellule de type Markdown :_\n",
    "\n",
    "$$ D_{KL}(P||Q) = \\sum\\limits_{i}ln (\\frac{P(i)}{Q(i)}) P(i)$$"
   ]
  },
  {
   "cell_type": "markdown",
   "metadata": {},
   "source": [
    "## ▶ Recherche et substitution\n",
    "\n",
    "**13)** Au sein d'une cellule, il est possible de faire des **recherches/substitutions** de chaîne, avec `Edit>Find and Replace` ou le raccourci clavier `F`. Remplacez les \"zzz\" ci-dessous par des \"www\" !\n",
    "\n",
    "Abc def zzz ghi 123 zzz fin."
   ]
  },
  {
   "cell_type": "markdown",
   "metadata": {},
   "source": [
    "## ▶ Sauvegarder et imprimer un notebook"
   ]
  },
  {
   "cell_type": "markdown",
   "metadata": {},
   "source": [
    "**14)** Lorsque vous avez terminé de travailler dans un notebook, **n'oubliez pas de le sauvegarder** avec le bouton `[Save and Checkpoint]` (ou le raccourci clavier `S` ou menu `File>Save and Checkpoint`). Sachez que Jupyter Notebook effectue par défaut des sauvegardes à intervalle régulier, et que `File>Revert to Checkpoint` permet de revenir à un état enregistré."
   ]
  },
  {
   "cell_type": "markdown",
   "metadata": {},
   "source": [
    "**15)** Si vous désirez **imprimer un notebook** Jupyter, commencez par faire `File>Print Preview`. Le résultat de la conversion apparaît dans une nouvelle fenêtre de navigateur, et à partir de là vous pourrez lancer l'impression."
   ]
  },
  {
   "cell_type": "markdown",
   "metadata": {},
   "source": [
    "## ▶ Graphiques dans un notebook\n",
    "\n",
    "**16)** Si vous démarrez un notebook Jupyter contenant du code Python avec l'option `--pylab=inline` ou que vous exécuter la magic fonction `%pylab inline`, les packages **Numpy** et **Matplotlib** sont importés, et il sera possible de dessiner des graphiques de façon \"inline\" (intégrés au notebook). L'exemple de code ci-dessous sera alors exécutable."
   ]
  },
  {
   "cell_type": "code",
   "execution_count": null,
   "metadata": {},
   "outputs": [],
   "source": [
    "%pylab inline\n",
    "\n",
    "# Fait appel à numpy (linspace et pi)\n",
    "x = linspace(0, 3*pi, 500)\n",
    "\n",
    "# Fait appel à matplotlib (plot et title)\n",
    "plot(x, sin(x**2))\n",
    "title('Graphique sin(x**2)')"
   ]
  },
  {
   "cell_type": "markdown",
   "metadata": {},
   "source": [
    "## ▶ Et encore...\n",
    "\n",
    "Mentionnons quelques autres fonctionnalités utiles :\n",
    "\n",
    "- Pour **créer vos propres notebooks**, utilisez le bouton `[New]` dans la première fenêtre Jupyter, ou faites `File>New Notebook` depuis n'importe quelle fenêtre de notebook. N'oubliez ensuite pas de donner un nom de fichier à votre notebook en cliquant dans le champ \"Untitled\" au haut de la fenêtre du nouveau notebook\n",
    "- Si Jupyter Notebook semble bloqué, c'est surement qu'il **tourne indéfiniment** en raison par exemple d'une boucle mal contrôlée (consommant 100% de CPU d'1 core de votre machine). Vous deviez voir le message \"Kernel busy\" au haut de l'écran. Pour l'**interrompre**, cliquez sur le bouton `[Interrupt the kernel]` (ou menu `Kernel>Interrupt`). Si ça ne fonctionne vraiment pas, il faudra se résoudre à tuer le serveur web avec `<ctrl-C>`\n",
    "- Pour **effacer tous les outputs** d'un notebook, vous pouvez faire `Cell>All Output>Clear`\n",
    "- Sous `Help>Keyboard Shortcuts` vous trouverez la liste des nombreux **raccourcis clavier** améliorant grandement l'efficacité d'utilisation de Jupyter Notebook !\n",
    "- Sous `Help>Notebook Help` vous accéderez à la **documentation** complète de Jupyter Notebook"
   ]
  },
  {
   "cell_type": "markdown",
   "metadata": {},
   "source": [
    "## ▶ Quitter un notebook Jupyter\n",
    "\n",
    "**17)** Pour **quitter** un notebook Jupyter, faites `File>Close and Halt`. Faites cela maintenant. Au revoir !"
   ]
  }
 ],
 "metadata": {
  "kernelspec": {
   "display_name": "Python 3",
   "language": "python",
   "name": "python3"
  },
  "language_info": {
   "codemirror_mode": {
    "name": "ipython",
    "version": 3
   },
   "file_extension": ".py",
   "mimetype": "text/x-python",
   "name": "python",
   "nbconvert_exporter": "python",
   "pygments_lexer": "ipython3",
   "version": "3.7.3"
  }
 },
 "nbformat": 4,
 "nbformat_minor": 1
}
